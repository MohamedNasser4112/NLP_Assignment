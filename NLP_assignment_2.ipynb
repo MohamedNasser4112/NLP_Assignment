{
 "cells": [
  {
   "cell_type": "code",
   "execution_count": 1,
   "metadata": {},
   "outputs": [
    {
     "name": "stderr",
     "output_type": "stream",
     "text": [
      "c:\\Users\\Nasser\\AppData\\Local\\Programs\\Python\\Python312\\Lib\\site-packages\\tqdm\\auto.py:21: TqdmWarning: IProgress not found. Please update jupyter and ipywidgets. See https://ipywidgets.readthedocs.io/en/stable/user_install.html\n",
      "  from .autonotebook import tqdm as notebook_tqdm\n"
     ]
    }
   ],
   "source": [
    "from sklearn.feature_extraction.text import TfidfVectorizer\n",
    "from nltk.tokenize import word_tokenize\n",
    "from nltk.corpus import stopwords\n",
    "from nltk.stem import WordNetLemmatizer\n",
    "import re\n",
    "from collections import Counter\n",
    "import math\n",
    "import torch\n",
    "from transformers import GPT2LMHeadModel, GPT2Tokenizer"
   ]
  },
  {
   "cell_type": "code",
   "execution_count": 2,
   "metadata": {},
   "outputs": [
    {
     "name": "stderr",
     "output_type": "stream",
     "text": [
      "[nltk_data] Downloading package punkt to\n",
      "[nltk_data]     C:\\Users\\Nasser\\AppData\\Roaming\\nltk_data...\n",
      "[nltk_data]   Package punkt is already up-to-date!\n",
      "[nltk_data] Downloading package stopwords to\n",
      "[nltk_data]     C:\\Users\\Nasser\\AppData\\Roaming\\nltk_data...\n",
      "[nltk_data]   Package stopwords is already up-to-date!\n",
      "[nltk_data] Downloading package wordnet to\n",
      "[nltk_data]     C:\\Users\\Nasser\\AppData\\Roaming\\nltk_data...\n",
      "[nltk_data]   Package wordnet is already up-to-date!\n"
     ]
    }
   ],
   "source": [
    "# Download NLTK resources\n",
    "import nltk\n",
    "nltk.download('punkt')\n",
    "nltk.download('stopwords')\n",
    "nltk.download('wordnet')\n",
    "\n",
    "def generate_documents(topic_name, num_documents=5, max_length=200):\n",
    "    # Load pre-trained GPT-2 model and tokenizer\n",
    "    tokenizer = GPT2Tokenizer.from_pretrained(\"gpt2\")\n",
    "    model = GPT2LMHeadModel.from_pretrained(\"gpt2\")\n",
    "\n",
    "    # Encode the input text\n",
    "    input_text = f\"Write a document about '{topic_name}'\"\n",
    "    input_ids = tokenizer.encode(input_text, return_tensors=\"pt\")\n",
    "\n",
    "    # Generate documents based on the input topic\n",
    "    generated_docs = []\n",
    "    for _ in range(num_documents):\n",
    "        # Generate text based on the input\n",
    "        output = model.generate(\n",
    "            input_ids,\n",
    "            max_length=max_length,\n",
    "            num_return_sequences=1,\n",
    "            no_repeat_ngram_size=2,\n",
    "            top_k=50,\n",
    "            top_p=0.95,\n",
    "            temperature=0.7,\n",
    "            do_sample=True,\n",
    "            pad_token_id=tokenizer.eos_token_id,\n",
    "        )\n",
    "\n",
    "        # Decode and append generated text to the list\n",
    "        generated_text = tokenizer.decode(output[0], skip_special_tokens=True)\n",
    "        generated_docs.append(generated_text)\n",
    "\n",
    "    return generated_docs\n",
    "\n",
    "\n",
    "topic_name = \"sports\"\n",
    "num_documents = 5\n",
    "documents = generate_documents(topic_name, num_documents)"
   ]
  },
  {
   "cell_type": "code",
   "execution_count": 3,
   "metadata": {},
   "outputs": [],
   "source": [
    "# Function to preprocess text\n",
    "def preprocess_text(text):\n",
    "    # Cleaning data: Remove symbols and special characters\n",
    "    cleaned_text = re.sub(r'[^a-zA-Z\\s]', '', text)\n",
    "    \n",
    "    # Normalization: Convert text to lowercase\n",
    "    normalized_text = cleaned_text.lower()\n",
    "    \n",
    "    # Tokenization: Split text into words\n",
    "    words = word_tokenize(normalized_text)\n",
    "    \n",
    "    # Remove stop words\n",
    "    stop_words = set(stopwords.words('english'))\n",
    "    filtered_words = [word for word in words if word not in stop_words]\n",
    "    \n",
    "    # Lemmatization\n",
    "    lemmatizer = WordNetLemmatizer()\n",
    "    lemmatized_words = [lemmatizer.lemmatize(word) for word in filtered_words]\n",
    "    \n",
    "    # Return preprocessed text as a string\n",
    "    return ' '.join(lemmatized_words)\n",
    "\n",
    "# Preprocess documents\n",
    "preprocessed_documents = [preprocess_text(doc) for doc in documents]\n",
    "\n"
   ]
  },
  {
   "cell_type": "code",
   "execution_count": 4,
   "metadata": {},
   "outputs": [],
   "source": [
    "# Calculate Term Frequency (TF) for each word in all documents\n",
    "def calculate_tf(documents_tokens):\n",
    "    tf_documents = []\n",
    "    for doc_tokens in documents_tokens:\n",
    "        word_count = Counter(doc_tokens.split())\n",
    "        tf_doc = {word: count/len(doc_tokens.split()) for word, count in word_count.items()}\n",
    "        tf_documents.append(tf_doc)\n",
    "    return tf_documents\n",
    "\n",
    "# Calculate Inverse Document Frequency (IDF) for each word\n",
    "def calculate_idf(documents_tokens):\n",
    "    idf_values = {}\n",
    "    num_documents = len(documents_tokens)\n",
    "    \n",
    "    # Flatten list of tokenized documents\n",
    "    all_words = set(word for doc in documents_tokens for word in doc.split())\n",
    "    \n",
    "    for word in all_words:\n",
    "        num_docs_containing_word = sum([1 for doc in documents_tokens if word in doc])\n",
    "        idf_values[word] = math.log(num_documents +1 / (1 + num_docs_containing_word))+1\n",
    "    \n",
    "    return idf_values\n",
    "\n",
    "# Calculate TF-IDF and normalize\n",
    "def calculate_tfidf(documents_tokens):\n",
    "    tf_documents = calculate_tf(documents_tokens)\n",
    "    idf_values = calculate_idf(documents_tokens)\n",
    "    \n",
    "    tfidf_normalized = []\n",
    "    for tf_doc in tf_documents:\n",
    "        tfidf_doc = {word: tf * idf_values[word] for word, tf in tf_doc.items()}\n",
    "        # Normalize TF-IDF scores\n",
    "        max_tfidf = max(tfidf_doc.values())\n",
    "        tfidf_normalized.append({word: tfidf_score / max_tfidf for word, tfidf_score in tfidf_doc.items()})\n",
    "    \n",
    "    return tfidf_normalized"
   ]
  },
  {
   "cell_type": "code",
   "execution_count": 5,
   "metadata": {},
   "outputs": [
    {
     "name": "stdout",
     "output_type": "stream",
     "text": [
      "TF-IDF scores calculated manually:\n",
      "Document 1: {'write': 0.2442212403106279, 'document': 0.2442212403106279, 'aboutsports': 0.2442212403106279, 'list': 0.25, 'people': 0.25, 'play': 0.24715577406681086, 'espn': 0.7500000000000001, 'might': 0.25, 'include': 0.25, 'name': 0.25, 'person': 0.25, 'played': 0.25, 'program': 0.5, 'team': 0.4943115481336217, 'hisher': 0.25, 'teammate': 0.25, 'number': 1.0, 'player': 0.5, 'career': 0.25, 'total': 0.25, 'want': 0.24715577406681086, 'know': 0.25, 'average': 0.5, 'use': 0.9828006106119875, 'value': 0.25, 'example': 0.7414673222004325, 'mean': 0.25, 'million': 1.0, 'x': 0.24481564782206536, 'could': 0.5, 'also': 0.24570015265299688, 'would': 0.25, 'see': 0.24570015265299688, 'comparing': 0.25, 'year': 0.25, 'say': 0.25, 'nfl': 0.24715577406681086}\n",
      "Document 2: {'write': 0.3256283204141705, 'document': 0.3256283204141705, 'aboutsports': 0.3256283204141705, 'link': 0.3295410320890811, 'httpsportbookcomenusarticlesnewsportschicagobillsfootballteamnewschampionshockeyclubreporttheshoutouthtml': 0.3333333333333333, 'chicago': 1.0, 'bear': 1.0, 'currently': 0.3333333333333333, 'record': 0.3333333333333333, 'recent': 0.3333333333333333, 'interview': 0.3333333333333333, 'tribune': 0.3333333333333333, 'former': 1.0, 'qb': 0.6666666666666666, 'brian': 0.3333333333333333, 'hartley': 0.3333333333333333, 'expressed': 0.3333333333333333, 'feeling': 0.3333333333333333, 'team': 0.3295410320890811, 'future': 0.3333333333333333, 'kirk': 0.3333333333333333, 'cousin': 1.0, 'hartly': 0.3333333333333333, 'also': 0.6552004070746582, 'said': 0.3333333333333333, 'pretty': 0.3333333333333333, 'open': 0.3333333333333333, 'deal': 0.3333333333333333, 'felt': 0.3333333333333333, 'two': 0.3333333333333333, 'side': 1.0, 'probably': 0.3333333333333333, 'going': 0.3333333333333333, 'go': 0.3276002035373291, 'anywhere': 0.3333333333333333, 'vocal': 0.3333333333333333, 'support': 0.3333333333333333, 'season': 0.6666666666666666, 'especially': 0.3333333333333333, 'since': 0.3333333333333333, 'parted': 0.3333333333333333, 'way': 0.3295410320890811, 'nfl': 0.3295410320890811, 'quarterback': 0.3333333333333333, 'outspoken': 0.3333333333333333, 'offensive': 0.3333333333333333, 'ball': 0.3295410320890811, 'defensive': 0.3333333333333333, 'including': 0.3295410320890811}\n",
      "Document 3: {'write': 0.4940633922730252, 'document': 0.4940633922730252, 'aboutsports': 0.4940633922730252, 'help': 0.5057539135873482, 'become': 0.5057539135873482, 'comfortable': 0.5057539135873482, 'like': 0.5057539135873482, 'good': 0.5, 'simple': 0.5057539135873482, 'story': 0.5057539135873482, 'tell': 0.5057539135873482, 'great': 0.5, 'way': 0.5, 'keep': 0.5057539135873482, 'informed': 0.5057539135873482, 'find': 0.4970552550930482, 'event': 1.0, 'create': 0.5}\n",
      "Document 4: {'write': 0.07142857142857142, 'document': 0.07142857142857142, 'aboutsports': 0.07142857142857142, 'new': 0.14457369751673319, 'section': 0.14623742664176256, 'created': 0.07311871332088128, 'site': 0.3655935666044064, 'feature': 0.07311871332088128, 'added': 0.07311871332088128, 'possible': 0.07311871332088128, 'see': 0.071861116098925, 'sport': 1.0, 'related': 0.07311871332088128, 'information': 0.43871227992528766, 'offer': 0.07311871332088128, 'link': 0.21686054627509974, 'various': 0.2924748532835251, 'source': 0.21935613996264383, 'free': 0.14623742664176256, 'also': 0.21558334829677497, 'great': 0.07228684875836659, 'data': 0.07311871332088128, 'enthusiast': 0.07311871332088128, 'provided': 0.07311871332088128, 'used': 0.07311871332088128, 'make': 0.07311871332088128, 'better': 0.07311871332088128, 'understanding': 0.07311871332088128, 'looking': 0.07311871332088128, 'blog': 0.07311871332088128, 'find': 0.21558334829677497, 'many': 0.07311871332088128, 'including': 0.07228684875836659, 'news': 0.14457369751673319, 'current': 0.07228684875836659, 'event': 0.07228684875836659, 'game': 0.07228684875836659, 'website': 0.2924748532835251, 'provide': 0.14623742664176256, 'based': 0.14623742664176256, 'statistic': 0.21935613996264383, 'called': 0.07311871332088128, 'stats': 0.14623742664176256, 'example': 0.07228684875836659, 'review': 0.07311871332088128, 'interesting': 0.07311871332088128}\n",
      "Document 5: {'write': 0.3256283204141705, 'document': 0.3256283204141705, 'aboutsports': 0.3256283204141705, 'football': 0.3295410320890811, 'tosoccer': 0.3333333333333333, 'following': 0.3333333333333333, 'text': 0.3333333333333333, 'span': 0.6666666666666666, 'idsports': 0.3333333333333333, 'classfootballfifa': 0.3333333333333333, 'world': 0.3333333333333333, 'cupspan': 0.3333333333333333, 'hrefhttpwwwsoccersfrfootballsocfifaworldcupusaa': 0.3333333333333333, 'spanspan': 0.3333333333333333, 'styledisplay': 0.3333333333333333, 'nonedivdiv': 0.3333333333333333, 'class': 0.3333333333333333, 'style': 0.3333333333333333, 'hrefsportssportssportfootball': 0.3333333333333333, 'classsportssociety': 0.3333333333333333, 'stylewidth': 0.3333333333333333, 'height': 0.3333333333333333, 'mdiv': 0.3333333333333333, 'see': 0.32760020353732916, 'good': 0.6590820641781622, 'answer': 0.3333333333333333, 'click': 0.3333333333333333, 'yes': 0.3333333333333333, 'go': 0.32760020353732916, 'last': 0.3333333333333333, 'page': 0.6666666666666666, 'show': 0.3333333333333333, 'exact': 0.3333333333333333, 'position': 0.3333333333333333, 'soccer': 1.0, 'ball': 0.3295410320890811, 'want': 0.3295410320890811, 'use': 0.32760020353732916, 'game': 0.3295410320890811, 'done': 0.3333333333333333, 'need': 0.3333333333333333, 'find': 0.32760020353732916, 'playing': 0.3333333333333333}\n",
      "TF-IDF scores using TfidfVectorizer (sklearn):\n",
      "Document 1: {'nfl': 0.2016984258719968, 'say': 0.25, 'year': 0.25, 'comparing': 0.25, 'see': 0.16742791363812926, 'would': 0.25, 'also': 0.16742791363812926, 'could': 0.5, 'million': 1.0, 'mean': 0.25, 'example': 0.6050952776159904, 'value': 0.25, 'use': 0.8067937034879872, 'average': 0.5, 'know': 0.25, 'want': 0.2016984258719968, 'total': 0.25, 'career': 0.25, 'player': 0.5, 'number': 1.0, 'teammate': 0.25, 'hisher': 0.25, 'team': 0.4033968517439936, 'program': 0.5, 'played': 0.25, 'person': 0.25, 'name': 0.25, 'include': 0.25, 'might': 0.25, 'espn': 0.75, 'play': 0.25, 'people': 0.25, 'list': 0.25, 'aboutsports': 0.11912633951012608, 'document': 0.11912633951012608, 'write': 0.11912633951012608}\n",
      "Document 2: {'including': 0.2689312344959957, 'defensive': 0.3333333333333333, 'ball': 0.2689312344959957, 'offensive': 0.3333333333333333, 'outspoken': 0.3333333333333333, 'quarterback': 0.3333333333333333, 'way': 0.2689312344959957, 'parted': 0.3333333333333333, 'since': 0.3333333333333333, 'especially': 0.3333333333333333, 'season': 0.6666666666666666, 'support': 0.3333333333333333, 'vocal': 0.3333333333333333, 'anywhere': 0.3333333333333333, 'go': 0.2689312344959957, 'going': 0.3333333333333333, 'probably': 0.3333333333333333, 'side': 1.0, 'two': 0.3333333333333333, 'felt': 0.3333333333333333, 'deal': 0.3333333333333333, 'open': 0.3333333333333333, 'pretty': 0.3333333333333333, 'said': 0.3333333333333333, 'hartly': 0.3333333333333333, 'cousin': 1.0, 'kirk': 0.3333333333333333, 'future': 0.3333333333333333, 'feeling': 0.3333333333333333, 'expressed': 0.3333333333333333, 'hartley': 0.3333333333333333, 'brian': 0.3333333333333333, 'qb': 0.6666666666666666, 'former': 1.0, 'tribune': 0.3333333333333333, 'interview': 0.3333333333333333, 'recent': 0.3333333333333333, 'record': 0.3333333333333333, 'currently': 0.3333333333333333, 'bear': 1.0, 'chicago': 1.0, 'httpsportbookcomenusarticlesnewsportschicagobillsfootballteamnewschampionshockeyclubreporttheshoutouthtml': 0.3333333333333333, 'link': 0.2689312344959957, 'nfl': 0.2689312344959957, 'also': 0.44647443636834466, 'team': 0.2689312344959957, 'aboutsports': 0.15883511934683478, 'document': 0.15883511934683478, 'write': 0.15883511934683478}\n",
      "Document 3: {'create': 0.6197371122733915, 'event': 1.0, 'find': 0.41504516684821197, 'informed': 0.6197371122733915, 'keep': 0.6197371122733915, 'great': 0.5, 'tell': 0.6197371122733915, 'story': 0.6197371122733915, 'simple': 0.6197371122733915, 'good': 0.5, 'like': 0.6197371122733915, 'comfortable': 0.6197371122733915, 'become': 0.6197371122733915, 'help': 0.6197371122733915, 'way': 0.5, 'aboutsports': 0.2953080545748206, 'document': 0.2953080545748206, 'write': 0.2953080545748206}\n",
      "Document 4: {'interesting': 0.07142857142857144, 'review': 0.07142857142857144, 'stats': 0.14285714285714288, 'called': 0.07142857142857144, 'statistic': 0.2142857142857143, 'based': 0.14285714285714288, 'provide': 0.14285714285714288, 'website': 0.28571428571428575, 'game': 0.05762812167771338, 'current': 0.07142857142857144, 'news': 0.14285714285714288, 'many': 0.07142857142857144, 'blog': 0.07142857142857144, 'looking': 0.07142857142857144, 'understanding': 0.07142857142857144, 'better': 0.07142857142857144, 'make': 0.07142857142857144, 'used': 0.07142857142857144, 'provided': 0.07142857142857144, 'enthusiast': 0.07142857142857144, 'data': 0.07142857142857144, 'free': 0.14285714285714288, 'source': 0.2142857142857143, 'various': 0.28571428571428575, 'offer': 0.07142857142857144, 'information': 0.4285714285714286, 'related': 0.07142857142857144, 'sport': 1.0, 'possible': 0.07142857142857144, 'added': 0.07142857142857144, 'feature': 0.07142857142857144, 'site': 0.3571428571428572, 'created': 0.07142857142857144, 'section': 0.14285714285714288, 'new': 0.14285714285714288, 'event': 0.05762812167771338, 'find': 0.14350964026125365, 'great': 0.05762812167771338, 'including': 0.05762812167771338, 'link': 0.1728843650331401, 'see': 0.04783654675375122, 'also': 0.14350964026125365, 'example': 0.05762812167771338, 'aboutsports': 0.034036097002893166, 'document': 0.034036097002893166, 'write': 0.034036097002893166}\n",
      "Document 5: {'playing': 0.3333333333333333, 'need': 0.3333333333333333, 'done': 0.3333333333333333, 'soccer': 1.0, 'position': 0.3333333333333333, 'exact': 0.3333333333333333, 'show': 0.3333333333333333, 'page': 0.6666666666666666, 'last': 0.3333333333333333, 'yes': 0.3333333333333333, 'click': 0.3333333333333333, 'answer': 0.3333333333333333, 'mdiv': 0.3333333333333333, 'height': 0.3333333333333333, 'stylewidth': 0.3333333333333333, 'classsportssociety': 0.3333333333333333, 'hrefsportssportssportfootball': 0.3333333333333333, 'style': 0.3333333333333333, 'class': 0.3333333333333333, 'nonedivdiv': 0.3333333333333333, 'styledisplay': 0.3333333333333333, 'spanspan': 0.3333333333333333, 'hrefhttpwwwsoccersfrfootballsocfifaworldcupusaa': 0.3333333333333333, 'cupspan': 0.3333333333333333, 'world': 0.3333333333333333, 'classfootballfifa': 0.3333333333333333, 'idsports': 0.3333333333333333, 'span': 0.6666666666666666, 'text': 0.3333333333333333, 'following': 0.3333333333333333, 'tosoccer': 0.3333333333333333, 'football': 0.3333333333333333, 'game': 0.26893123449599576, 'find': 0.22323721818417233, 'good': 0.5378624689919915, 'ball': 0.26893123449599576, 'go': 0.26893123449599576, 'see': 0.22323721818417233, 'use': 0.26893123449599576, 'want': 0.26893123449599576, 'aboutsports': 0.15883511934683478, 'document': 0.15883511934683478, 'write': 0.15883511934683478}\n"
     ]
    }
   ],
   "source": [
    "# Calculate TF-IDF scores manually\n",
    "tfidf_scores_manual = calculate_tfidf(preprocessed_documents)\n",
    "\n",
    "# TF-IDF vectorization using TfidfVectorizer\n",
    "vectorizer = TfidfVectorizer()\n",
    "tfidf_matrix_sklearn = vectorizer.fit_transform(preprocessed_documents)\n",
    "\n",
    "# Get feature names (unique words)\n",
    "feature_names = vectorizer.get_feature_names_out()\n",
    "\n",
    "# Normalize TF-IDF scores from sklearn to match manual normalization\n",
    "def normalize_tfidf(tfidf_matrix_sklearn):\n",
    "    tfidf_normalized = []\n",
    "    for i in range(tfidf_matrix_sklearn.shape[0]):\n",
    "        max_tfidf = max(tfidf_matrix_sklearn[i].toarray()[0])\n",
    "        tfidf_normalized.append({feature_names[j]: tfidf_matrix_sklearn[i, j]/max_tfidf for j in tfidf_matrix_sklearn[i].nonzero()[1]})\n",
    "    return tfidf_normalized\n",
    "\n",
    "# Normalize TF-IDF scores from sklearn\n",
    "tfidf_scores_sklearn = normalize_tfidf(tfidf_matrix_sklearn)\n",
    "\n",
    "# Display normalized TF-IDF scores (Manual)\n",
    "print(\"TF-IDF scores calculated manually:\")\n",
    "for i, doc_tfidf in enumerate(tfidf_scores_manual):\n",
    "    print(f\"Document {i+1}: {doc_tfidf}\")\n",
    "\n",
    "# Display normalized TF-IDF scores from sklearn\n",
    "print(\"TF-IDF scores using TfidfVectorizer (sklearn):\")\n",
    "for i, doc_tfidf in enumerate(tfidf_scores_sklearn):\n",
    "    print(f\"Document {i+1}: {doc_tfidf}\")"
   ]
  },
  {
   "cell_type": "code",
   "execution_count": 7,
   "metadata": {},
   "outputs": [
    {
     "name": "stdout",
     "output_type": "stream",
     "text": [
      "0.2016984258719968\n",
      "0.24715577406681086\n"
     ]
    }
   ],
   "source": [
    "print(tfidf_scores_sklearn[0]['nfl'])\n",
    "print(tfidf_scores_manual[0]['nfl'])"
   ]
  },
  {
   "cell_type": "code",
   "execution_count": 8,
   "metadata": {},
   "outputs": [
    {
     "name": "stdout",
     "output_type": "stream",
     "text": [
      "0.16742791363812926\n",
      "0.24570015265299688\n"
     ]
    }
   ],
   "source": [
    "print(tfidf_scores_sklearn[0]['see'])\n",
    "print(tfidf_scores_manual[0]['see'])\n"
   ]
  }
 ],
 "metadata": {
  "kernelspec": {
   "display_name": "Python 3",
   "language": "python",
   "name": "python3"
  },
  "language_info": {
   "codemirror_mode": {
    "name": "ipython",
    "version": 3
   },
   "file_extension": ".py",
   "mimetype": "text/x-python",
   "name": "python",
   "nbconvert_exporter": "python",
   "pygments_lexer": "ipython3",
   "version": "3.12.1"
  }
 },
 "nbformat": 4,
 "nbformat_minor": 2
}
